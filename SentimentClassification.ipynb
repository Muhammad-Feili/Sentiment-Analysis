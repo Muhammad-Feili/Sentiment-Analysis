{
 "cells": [
  {
   "cell_type": "code",
   "execution_count": 1,
   "metadata": {},
   "outputs": [],
   "source": [
    "import pandas\n",
    "from sklearn.feature_extraction.text import CountVectorizer, TfidfTransformer, TfidfVectorizer\n",
    "from sklearn.metrics import accuracy_score, confusion_matrix, classification_report\n",
    "from sklearn.naive_bayes import MultinomialNB\n",
    "from sklearn.pipeline import Pipeline\n",
    "from nltk.corpus import stopwords\n",
    "\n",
    "stop_words=set(stopwords.words('english'))\n",
    "vect=CountVectorizer(stop_words=stop_words)\n",
    "\n",
    "train_docs = list(pandas.read_csv(\"train_docs.csv\", header=None)[0])\n",
    "test_docs=list(pandas.read_csv('test_docs.csv',header=None)[0])\n",
    "train_labels=list(pandas.read_csv(\"train_labels.csv\",header=None)[0])"
   ]
  },
  {
   "cell_type": "code",
   "execution_count": 2,
   "metadata": {
    "scrolled": true
   },
   "outputs": [],
   "source": [
    "def normalize(dataset):\n",
    "    docs=dataset\n",
    "    import nltk\n",
    "    from nltk.stem import WordNetLemmatizer\n",
    "    from nltk.stem import PorterStemmer\n",
    "    ps=PorterStemmer()\n",
    "    sen=[]\n",
    "    for i in docs:\n",
    "        sentence=i.split()\n",
    "        l=[]\n",
    "        for k in sentence:\n",
    "            h=ps.stem(k)\n",
    "\n",
    "            l.append(h)\n",
    "        p=\" \".join(l)   \n",
    "        sen.append(p)\n",
    "    wl= WordNetLemmatizer()\n",
    "    train_normalized=[]\n",
    "    for sentence_words in sen:\n",
    "        g=[]\n",
    "        for word in sentence_words.split():\n",
    "            h=wl.lemmatize(word, pos=\"v\")\n",
    "            g.append(h)\n",
    "        s=\" \".join(g)\n",
    "        train_normalized.append(s)\n",
    "    return train_normalized"
   ]
  },
  {
   "cell_type": "code",
   "execution_count": 3,
   "metadata": {
    "scrolled": true
   },
   "outputs": [],
   "source": [
    "train_normalized=normalize(train_docs)\n",
    "test_normalized=normalize(test_docs)"
   ]
  },
  {
   "cell_type": "code",
   "execution_count": 4,
   "metadata": {},
   "outputs": [
    {
     "data": {
      "text/plain": [
       "0.9830747531734838"
      ]
     },
     "execution_count": 4,
     "metadata": {},
     "output_type": "execute_result"
    }
   ],
   "source": [
    "train=vect.fit_transform(train_normalized)\n",
    "test=vect.fit_transform(test_normalized)\n",
    "from sklearn.model_selection import train_test_split\n",
    "\n",
    "X_train,X_test,Y_train,Y_test=train_test_split(train,train_labels,test_size=.2,random_state=105)\n",
    "\n",
    "model=MultinomialNB()\n",
    "model.fit(X_train,Y_train)\n",
    "pred=model.predict(X_test)\n",
    "accuracy_score(Y_test,pred)"
   ]
  },
  {
   "cell_type": "code",
   "execution_count": 5,
   "metadata": {},
   "outputs": [
    {
     "data": {
      "text/plain": [
       "0.9746121297602257"
      ]
     },
     "execution_count": 5,
     "metadata": {},
     "output_type": "execute_result"
    }
   ],
   "source": [
    "from sklearn.neighbors import KNeighborsClassifier as KNN\n",
    "knn=KNN(n_neighbors=6)\n",
    "mod=knn.fit(X_train,Y_train)\n",
    "p=mod.predict(X_test)\n",
    "accuracy_score(Y_test,p)"
   ]
  },
  {
   "cell_type": "code",
   "execution_count": 7,
   "metadata": {},
   "outputs": [
    {
     "data": {
      "text/plain": [
       "0.9901269393511989"
      ]
     },
     "execution_count": 7,
     "metadata": {},
     "output_type": "execute_result"
    }
   ],
   "source": [
    "from sklearn.ensemble import GradientBoostingClassifier\n",
    "clf = GradientBoostingClassifier(n_estimators=250,learning_rate=1.0,max_depth=3)\n",
    "M=clf.fit(X_train,Y_train)\n",
    "pr=M.predict(X_test)\n",
    "accuracy_score(Y_test,pr)"
   ]
  },
  {
   "cell_type": "code",
   "execution_count": 27,
   "metadata": {},
   "outputs": [],
   "source": [
    "T_1,T_2=train_test_split(test_normalized,test_size=.5,random_state=105)"
   ]
  },
  {
   "cell_type": "code",
   "execution_count": 28,
   "metadata": {},
   "outputs": [],
   "source": [
    "T_11,T_12=train_test_split(T_1,test_size=.5,random_state=105)\n",
    "T_21,T_22=train_test_split(T_2,test_size=.5,random_state=105)\n",
    "\n",
    "D_01,D_02=train_test_split(T_11,test_size=.5,random_state=105)\n",
    "D_03,D_04=train_test_split(T_11,test_size=.5,random_state=105)\n",
    "D_05,D_06=train_test_split(T_11,test_size=.5,random_state=105)\n",
    "D_07,D_08=train_test_split(T_11,test_size=.5,random_state=105)"
   ]
  },
  {
   "cell_type": "code",
   "execution_count": 48,
   "metadata": {},
   "outputs": [
    {
     "data": {
      "text/plain": [
       "0.9901960784313726"
      ]
     },
     "execution_count": 48,
     "metadata": {},
     "output_type": "execute_result"
    }
   ],
   "source": [
    "import numpy as np\n",
    "from sklearn.pipeline import Pipeline\n",
    "from sklearn.feature_extraction.text import TfidfTransformer\n",
    "\n",
    "GBC=GradientBoostingClassifier(n_estimators=250,learning_rate=1.0,max_depth=3)\n",
    "MODEL=Pipeline([('covect',CountVectorizer()),('tfidf',TfidfTransformer()),('gcb',GBC)])\n",
    "MODEL.fit(train_normalized,train_labels)\n",
    "L_01=MODEL.predict(D_01)\n",
    "\n",
    "new_labels=np.concatenate((L_01,train_labels),axis=0)\n",
    "new_train=np.concatenate((D_01,train_normalized),axis=0)\n",
    "x_train,x_test,y_train,y_test=train_test_split(new_train,new_labels,test_size=.2,random_state=105)\n",
    "Model=Pipeline([('covect',CountVectorizer()),('tfidf',TfidfTransformer()),('gcb',GBC)])\n",
    "Model.fit(x_train,y_train)\n",
    "predicted=Model.predict(x_test)\n",
    "accuracy_score(y_test,predicted)"
   ]
  },
  {
   "cell_type": "code",
   "execution_count": 49,
   "metadata": {},
   "outputs": [
    {
     "data": {
      "text/plain": [
       "0.9928338762214983"
      ]
     },
     "execution_count": 49,
     "metadata": {},
     "output_type": "execute_result"
    }
   ],
   "source": [
    "L_02=Model.predict(D_02)\n",
    "\n",
    "new_labels=np.concatenate((L_02,new_labels),axis=0)\n",
    "new_train=np.concatenate((D_02,new_train),axis=0)\n",
    "x_train,x_test,y_train,y_test=train_test_split(new_train,new_labels,test_size=.2,random_state=105)\n",
    "Model=Pipeline([('covect',CountVectorizer()),('tfidf',TfidfTransformer()),('gcb',GBC)])\n",
    "Model.fit(x_train,y_train)\n",
    "predicted=Model.predict(x_test)\n",
    "accuracy_score(y_test,predicted)\n"
   ]
  },
  {
   "cell_type": "code",
   "execution_count": 50,
   "metadata": {},
   "outputs": [
    {
     "data": {
      "text/plain": [
       "0.9917864476386037"
      ]
     },
     "execution_count": 50,
     "metadata": {},
     "output_type": "execute_result"
    }
   ],
   "source": [
    "L_03=Model.predict(D_03)\n",
    "\n",
    "new_labels=np.concatenate((L_03,new_labels),axis=0)\n",
    "new_train=np.concatenate((D_03,new_train),axis=0)\n",
    "x_train,x_test,y_train,y_test=train_test_split(new_train,new_labels,test_size=.2,random_state=105)\n",
    "Model=Pipeline([('covect',CountVectorizer()),('tfidf',TfidfTransformer()),('gcb',GBC)])\n",
    "Model.fit(x_train,y_train)\n",
    "predicted=Model.predict(x_test)\n",
    "accuracy_score(y_test,predicted)"
   ]
  },
  {
   "cell_type": "code",
   "execution_count": 51,
   "metadata": {},
   "outputs": [
    {
     "data": {
      "text/plain": [
       "0.9942832945161973"
      ]
     },
     "execution_count": 51,
     "metadata": {},
     "output_type": "execute_result"
    }
   ],
   "source": [
    "L_04=Model.predict(D_04)\n",
    "\n",
    "new_labels=np.concatenate((L_04,new_labels),axis=0)\n",
    "new_train=np.concatenate((D_04,new_train),axis=0)\n",
    "x_train,x_test,y_train,y_test=train_test_split(new_train,new_labels,test_size=.2,random_state=105)\n",
    "Model=Pipeline([('covect',CountVectorizer()),('tfidf',TfidfTransformer()),('gcb',GBC)])\n",
    "Model.fit(x_train,y_train)\n",
    "predicted=Model.predict(x_test)\n",
    "accuracy_score(y_test,predicted)"
   ]
  },
  {
   "cell_type": "code",
   "execution_count": 52,
   "metadata": {},
   "outputs": [
    {
     "data": {
      "text/plain": [
       "0.9956748963777258"
      ]
     },
     "execution_count": 52,
     "metadata": {},
     "output_type": "execute_result"
    }
   ],
   "source": [
    "L_05=Model.predict(D_05)\n",
    "\n",
    "new_labels=np.concatenate((L_05,new_labels),axis=0)\n",
    "new_train=np.concatenate((D_05,new_train),axis=0)\n",
    "x_train,x_test,y_train,y_test=train_test_split(new_train,new_labels,test_size=.2,random_state=105)\n",
    "Model=Pipeline([('covect',CountVectorizer()),('tfidf',TfidfTransformer()),('gcb',GBC)])\n",
    "Model.fit(x_train,y_train)\n",
    "predicted=Model.predict(x_test)\n",
    "accuracy_score(y_test,predicted)"
   ]
  },
  {
   "cell_type": "code",
   "execution_count": 53,
   "metadata": {},
   "outputs": [
    {
     "data": {
      "text/plain": [
       "0.995764705882353"
      ]
     },
     "execution_count": 53,
     "metadata": {},
     "output_type": "execute_result"
    }
   ],
   "source": [
    "L_06=Model.predict(D_06)\n",
    "\n",
    "new_labels=np.concatenate((L_06,new_labels),axis=0)\n",
    "new_train=np.concatenate((D_06,new_train),axis=0)\n",
    "x_train,x_test,y_train,y_test=train_test_split(new_train,new_labels,test_size=.2,random_state=105)\n",
    "Model=Pipeline([('covect',CountVectorizer()),('tfidf',TfidfTransformer()),('gcb',GBC)])\n",
    "Model.fit(x_train,y_train)\n",
    "predicted=Model.predict(x_test)\n",
    "accuracy_score(y_test,predicted)"
   ]
  },
  {
   "cell_type": "code",
   "execution_count": 54,
   "metadata": {},
   "outputs": [
    {
     "data": {
      "text/plain": [
       "0.9961121910580394"
      ]
     },
     "execution_count": 54,
     "metadata": {},
     "output_type": "execute_result"
    }
   ],
   "source": [
    "L_07=Model.predict(D_07)\n",
    "\n",
    "new_labels=np.concatenate((L_07,new_labels),axis=0)\n",
    "new_train=np.concatenate((D_07,new_train),axis=0)\n",
    "x_train,x_test,y_train,y_test=train_test_split(new_train,new_labels,test_size=.2,random_state=105)\n",
    "Model=Pipeline([('covect',CountVectorizer()),('tfidf',TfidfTransformer()),('gcb',GBC)])\n",
    "Model.fit(x_train,y_train)\n",
    "predicted=Model.predict(x_test)\n",
    "accuracy_score(y_test,predicted)"
   ]
  },
  {
   "cell_type": "code",
   "execution_count": 55,
   "metadata": {},
   "outputs": [
    {
     "data": {
      "text/plain": [
       "0.9980069755854509"
      ]
     },
     "execution_count": 55,
     "metadata": {},
     "output_type": "execute_result"
    }
   ],
   "source": [
    "L_08=Model.predict(D_08)\n",
    "\n",
    "new_labels=np.concatenate((L_08,new_labels),axis=0)\n",
    "new_train=np.concatenate((D_08,new_train),axis=0)\n",
    "x_train,x_test,y_train,y_test=train_test_split(new_train,new_labels,test_size=.2,random_state=105)\n",
    "Model=Pipeline([('covect',CountVectorizer()),('tfidf',TfidfTransformer()),('gcb',GBC)])\n",
    "Model.fit(x_train,y_train)\n",
    "predicted=Model.predict(x_test)\n",
    "accuracy_score(y_test,predicted)"
   ]
  },
  {
   "cell_type": "code",
   "execution_count": null,
   "metadata": {},
   "outputs": [],
   "source": []
  }
 ],
 "metadata": {
  "kernelspec": {
   "display_name": "Python 3",
   "language": "python",
   "name": "python3"
  },
  "language_info": {
   "codemirror_mode": {
    "name": "ipython",
    "version": 3
   },
   "file_extension": ".py",
   "mimetype": "text/x-python",
   "name": "python",
   "nbconvert_exporter": "python",
   "pygments_lexer": "ipython3",
   "version": "3.6.5"
  }
 },
 "nbformat": 4,
 "nbformat_minor": 2
}
